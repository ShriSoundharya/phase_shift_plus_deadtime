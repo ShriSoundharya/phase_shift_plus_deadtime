{
 "cells": [
  {
   "cell_type": "code",
   "execution_count": 18,
   "metadata": {},
   "outputs": [],
   "source": [
    "from pynq import Overlay\n",
    "ol=Overlay(\"phaseshift_plus_deadtime.bit\")\n",
    "\n",
    "from pynq import GPIO"
   ]
  },
  {
   "cell_type": "code",
   "execution_count": 19,
   "metadata": {},
   "outputs": [
    {
     "name": "stdout",
     "output_type": "stream",
     "text": [
      "CPU:   650.000000MHz\n",
      "FCLK0: 100.000000MHz\n",
      "FCLK1: 100.000000MHz\n",
      "FCLK2: 100.000000MHz\n",
      "FCLK3: 100.000000MHz\n"
     ]
    }
   ],
   "source": [
    "from pynq import Clocks\n",
    "\n",
    "print(f'CPU:   {Clocks.cpu_mhz:.6f}MHz')\n",
    "print(f'FCLK0: {Clocks.fclk0_mhz:.6f}MHz')\n",
    "print(f'FCLK1: {Clocks.fclk1_mhz:.6f}MHz')\n",
    "print(f'FCLK2: {Clocks.fclk2_mhz:.6f}MHz')\n",
    "print(f'FCLK3: {Clocks.fclk3_mhz:.6f}MHz')"
   ]
  },
  {
   "cell_type": "code",
   "execution_count": 20,
   "metadata": {},
   "outputs": [
    {
     "name": "stdout",
     "output_type": "stream",
     "text": [
      "CPU:   650.000000MHz\n",
      "FCLK0: 5.128205MHz\n",
      "FCLK1: 31.250000MHz\n",
      "FCLK2: 14.492754MHz\n",
      "FCLK3: 0.251953MHz\n"
     ]
    }
   ],
   "source": [
    "Clocks.fclk0_mhz = 5.123456\n",
    "Clocks.fclk1_mhz = 31.436546\n",
    "Clocks.fclk2_mhz = 14.597643\n",
    "Clocks.fclk3_mhz = 0.251954\n",
    "\n",
    "print(f'CPU:   {Clocks.cpu_mhz:.6f}MHz')\n",
    "print(f'FCLK0: {Clocks.fclk0_mhz:.6f}MHz')\n",
    "print(f'FCLK1: {Clocks.fclk1_mhz:.6f}MHz')\n",
    "print(f'FCLK2: {Clocks.fclk2_mhz:.6f}MHz')\n",
    "print(f'FCLK3: {Clocks.fclk3_mhz:.6f}MHz')"
   ]
  },
  {
   "cell_type": "code",
   "execution_count": 21,
   "metadata": {},
   "outputs": [],
   "source": [
    "\n",
    "# duty\n",
    "bit_0 = GPIO(GPIO.get_gpio_pin(0), 'out')\n",
    "bit_1 = GPIO(GPIO.get_gpio_pin(1), 'out')\n",
    "bit_2 = GPIO(GPIO.get_gpio_pin(2), 'out')\n",
    "bit_3 = GPIO(GPIO.get_gpio_pin(3), 'out')\n",
    "bit_4 = GPIO(GPIO.get_gpio_pin(4), 'out')\n",
    "bit_5 = GPIO(GPIO.get_gpio_pin(5), 'out')\n",
    "bit_6 = GPIO(GPIO.get_gpio_pin(6), 'out')\n",
    "bit_7 = GPIO(GPIO.get_gpio_pin(7), 'out')\n",
    "\n",
    "# dead time\n",
    "bit_8 = GPIO(GPIO.get_gpio_pin(8), 'out')\n",
    "bit_9 = GPIO(GPIO.get_gpio_pin(9), 'out')\n",
    "bit_10 = GPIO(GPIO.get_gpio_pin(10), 'out')\n",
    "bit_11 = GPIO(GPIO.get_gpio_pin(11), 'out')"
   ]
  },
  {
   "cell_type": "code",
   "execution_count": 22,
   "metadata": {},
   "outputs": [],
   "source": [
    "#25%\n",
    "\n",
    "bit_0.write(0)\n",
    "\n",
    "bit_1.write(0)\n",
    "\n",
    "bit_2.write(0)\n",
    "\n",
    "bit_3.write(0)\n",
    "\n",
    "bit_4.write(0)\n",
    "\n",
    "bit_5.write(0)\n",
    "\n",
    "bit_6.write(1)\n",
    "\n",
    "bit_7.write(0)\n",
    "\n",
    "\n",
    "bit_8.write(0)\n",
    "\n",
    "bit_9.write(0)\n",
    "\n",
    "bit_10.write(0)\n",
    "\n",
    "bit_11.write(0)"
   ]
  },
  {
   "cell_type": "code",
   "execution_count": 23,
   "metadata": {},
   "outputs": [],
   "source": [
    "#50%\n",
    "\n",
    "bit_0.write(1)\n",
    "\n",
    "bit_1.write(1)\n",
    "\n",
    "bit_2.write(1)\n",
    "\n",
    "bit_3.write(1)\n",
    "\n",
    "bit_4.write(0)\n",
    "\n",
    "bit_5.write(0)\n",
    "\n",
    "bit_6.write(0)\n",
    "\n",
    "bit_7.write(1)\n",
    "\n",
    "\n",
    "bit_8.write(0)\n",
    "\n",
    "bit_9.write(0)\n",
    "\n",
    "bit_10.write(1)\n",
    "\n",
    "bit_11.write(1)"
   ]
  },
  {
   "cell_type": "code",
   "execution_count": 40,
   "metadata": {},
   "outputs": [],
   "source": [
    "# 75%\n",
    "\n",
    "\n",
    "bit_0.write(0)\n",
    "\n",
    "bit_1.write(0)\n",
    "\n",
    "bit_2.write(0)\n",
    "\n",
    "bit_3.write(0)\n",
    "\n",
    "bit_4.write(0)\n",
    "\n",
    "bit_5.write(0)\n",
    "\n",
    "bit_6.write(1)\n",
    "\n",
    "bit_7.write(1)\n",
    "\n",
    "\n",
    "bit_8.write(0)\n",
    "\n",
    "bit_9.write(0)\n",
    "\n",
    "bit_10.write(0)\n",
    "\n",
    "bit_11.write(1)"
   ]
  },
  {
   "cell_type": "code",
   "execution_count": null,
   "metadata": {},
   "outputs": [],
   "source": [
    "#10%\n",
    "bit_0.write(1)\n",
    "\n",
    "bit_1.write(1)\n",
    "\n",
    "bit_2.write(1)\n",
    "\n",
    "bit_3.write(1)\n",
    "\n",
    "bit_4.write(1)\n",
    "\n",
    "bit_5.write(0)\n",
    "\n",
    "bit_6.write(0)\n",
    "\n",
    "bit_7.write(1)\n",
    "\n",
    "\n",
    "bit_8.write(0)\n",
    "\n",
    "bit_9.write(0)\n",
    "\n",
    "bit_10.write(0)\n",
    "\n",
    "bit_11.write(1)"
   ]
  }
 ],
 "metadata": {
  "kernelspec": {
   "display_name": "Python 3",
   "language": "python",
   "name": "python3"
  },
  "language_info": {
   "codemirror_mode": {
    "name": "ipython",
    "version": 3
   },
   "file_extension": ".py",
   "mimetype": "text/x-python",
   "name": "python",
   "nbconvert_exporter": "python",
   "pygments_lexer": "ipython3",
   "version": "3.6.5"
  }
 },
 "nbformat": 4,
 "nbformat_minor": 2
}
